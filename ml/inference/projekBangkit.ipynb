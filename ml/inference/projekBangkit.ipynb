{
 "cells": [
  {
   "cell_type": "markdown",
   "metadata": {},
   "source": [
    "<a href=\"https://colab.research.google.com/github/https-deeplearning-ai/tensorflow-2-public/blob/adding_C2/C2/W2/assignment_optional/C2_W2_Assignment_Solution.ipynb\" target=\"_parent\"><img src=\"https://colab.research.google.com/assets/colab-badge.svg\" alt=\"Open In Colab\"/></a>"
   ]
  },
  {
   "cell_type": "markdown",
   "metadata": {
    "id": "oYM61xrTsP5d"
   },
   "source": [
    "# KEMANAKITA MACHINE LEARNING MODEL"
   ]
  },
  {
   "cell_type": "markdown",
   "metadata": {
    "id": "xWFpUd1yy3gt"
   },
   "source": [
    "## Setup"
   ]
  },
  {
   "cell_type": "code",
   "execution_count": null,
   "metadata": {
    "id": "110fGB18UNJn"
   },
   "outputs": [],
   "source": [
    "try:\n",
    "    %tensorflow_version 2.x\n",
    "except:\n",
    "    pass"
   ]
  },
  {
   "cell_type": "code",
   "execution_count": null,
   "metadata": {
    "colab": {
     "base_uri": "https://localhost:8080/"
    },
    "id": "mTRz4WW_FUwf",
    "outputId": "66b0a6ea-d35d-4e6a-e4f0-cbdfa24d4c7e"
   },
   "outputs": [
    {
     "name": "stdout",
     "output_type": "stream",
     "text": [
      "Mounted at /content/gdrive\n"
     ]
    }
   ],
   "source": [
    "from google.colab import drive\n",
    "\n",
    "drive.mount(\"/content/gdrive\")"
   ]
  },
  {
   "cell_type": "code",
   "execution_count": null,
   "metadata": {
    "colab": {
     "base_uri": "https://localhost:8080/"
    },
    "id": "dlauq-4FWGZM",
    "outputId": "b519ecf0-04e3-4cf4-9573-4989508f3e94"
   },
   "outputs": [
    {
     "name": "stdout",
     "output_type": "stream",
     "text": [
      "• Using TensorFlow Version: 2.8.0\n",
      "• Using TensorFlow Hub Version:  0.12.0\n",
      "WARNING:tensorflow:From <ipython-input-4-ed288ed81411>:12: is_gpu_available (from tensorflow.python.framework.test_util) is deprecated and will be removed in a future version.\n",
      "Instructions for updating:\n",
      "Use `tf.config.list_physical_devices('GPU')` instead.\n",
      "• GPU Device Found.\n"
     ]
    }
   ],
   "source": [
    "import os\n",
    "\n",
    "import matplotlib.pylab as plt\n",
    "import numpy as np\n",
    "import tensorflow as tf\n",
    "import tensorflow_hub as hub\n",
    "from tqdm import tqdm\n",
    "\n",
    "print(\"\\u2022 Using TensorFlow Version:\", tf.__version__)\n",
    "print(\"\\u2022 Using TensorFlow Hub Version: \", hub.__version__)\n",
    "print(\n",
    "    \"\\u2022 GPU Device Found.\"\n",
    "    if tf.test.is_gpu_available()\n",
    "    else \"\\u2022 GPU Device Not Found. Running on CPU\"\n",
    ")"
   ]
  },
  {
   "cell_type": "markdown",
   "metadata": {
    "id": "mmaHHH7Pvmth"
   },
   "source": [
    "## Select the Hub/TF2 Module to Use\n",
    "\n",
    "Hub modules for TF 1.x won't work here, please use one of the selections provided."
   ]
  },
  {
   "cell_type": "code",
   "execution_count": null,
   "metadata": {
    "colab": {
     "base_uri": "https://localhost:8080/"
    },
    "id": "FlsEcKVeuCnf",
    "outputId": "6b631925-2441-4e7c-82fa-869ca576b6f0"
   },
   "outputs": [
    {
     "name": "stdout",
     "output_type": "stream",
     "text": [
      "Using https://tfhub.dev/google/tf2-preview/mobilenet_v2/feature_vector/4 with input size (224, 224) and output dimension 1280\n"
     ]
    }
   ],
   "source": [
    "module_selection = (\n",
    "    \"mobilenet_v2\",\n",
    "    224,\n",
    "    1280,\n",
    ")  # @param [\"(\\\"mobilenet_v2\\\", 224, 1280)\", \"(\\\"inception_v3\\\", 299, 2048)\"] {type:\"raw\", allow-input: true}\n",
    "handle_base, pixels, FV_SIZE = module_selection\n",
    "MODULE_HANDLE = \"https://tfhub.dev/google/tf2-preview/{}/feature_vector/4\".format(\n",
    "    handle_base\n",
    ")\n",
    "IMAGE_SIZE = (pixels, pixels)\n",
    "print(\n",
    "    \"Using {} with input size {} and output dimension {}\".format(\n",
    "        MODULE_HANDLE, IMAGE_SIZE, FV_SIZE\n",
    "    )\n",
    ")"
   ]
  },
  {
   "cell_type": "markdown",
   "metadata": {
    "id": "-HVEue6KFy5r"
   },
   "source": [
    "## Data Processing"
   ]
  },
  {
   "cell_type": "code",
   "execution_count": null,
   "metadata": {
    "id": "RtF5fFhmF5LM"
   },
   "outputs": [],
   "source": [
    "path = os.path.join(os.getcwd(), \"gdrive\", \"MyDrive\")  # comment this for local use\n",
    "datapath = os.path.join(path, \"Dataset\")  # change path to os.getcwd()\n",
    "train_path = os.path.join(datapath, \"train\")\n",
    "test_path = os.path.join(datapath, \"test\")"
   ]
  },
  {
   "cell_type": "code",
   "execution_count": null,
   "metadata": {
    "colab": {
     "base_uri": "https://localhost:8080/"
    },
    "id": "aAnJ5AW4F9Hx",
    "outputId": "e43b0b78-0d75-41d7-bbd9-60dada5cf3b8"
   },
   "outputs": [
    {
     "name": "stdout",
     "output_type": "stream",
     "text": [
      "Found 452 files belonging to 3 classes.\n",
      "Found 33 files belonging to 3 classes.\n"
     ]
    }
   ],
   "source": [
    "BATCH_SIZE = 10\n",
    "IMG_SIZE = (224, 224)\n",
    "\n",
    "train_dataset = tf.keras.utils.image_dataset_from_directory(\n",
    "    train_path, shuffle=True, batch_size=BATCH_SIZE, image_size=IMG_SIZE\n",
    ")\n",
    "test_dataset = tf.keras.utils.image_dataset_from_directory(\n",
    "    test_path, shuffle=True, batch_size=BATCH_SIZE, image_size=IMG_SIZE\n",
    ")"
   ]
  },
  {
   "cell_type": "code",
   "execution_count": null,
   "metadata": {
    "id": "i0lYfwOcKarF"
   },
   "outputs": [],
   "source": [
    "rescale = tf.keras.layers.Rescaling(1.0 / 127.5, offset=-1)"
   ]
  },
  {
   "cell_type": "code",
   "execution_count": null,
   "metadata": {
    "id": "bCbLcO2AKbYn"
   },
   "outputs": [],
   "source": [
    "BATCH_SIZE = 32  # @param {type:\"integer\"}"
   ]
  },
  {
   "cell_type": "code",
   "execution_count": null,
   "metadata": {
    "id": "TMvRralGKeqw"
   },
   "outputs": [],
   "source": [
    "num_examples = 452\n",
    "num_classes = 3"
   ]
  },
  {
   "cell_type": "code",
   "execution_count": null,
   "metadata": {
    "id": "xoKZX6nPLgbY"
   },
   "outputs": [],
   "source": [
    "train_batches = train_dataset.shuffle(num_examples // 4).batch(BATCH_SIZE).prefetch(1)\n",
    "validation_batches = test_dataset.batch(BATCH_SIZE).prefetch(1)\n",
    "# test_batches = test_examples.batch(1).map(format_image)"
   ]
  },
  {
   "cell_type": "markdown",
   "metadata": {
    "id": "FS_gVStowW3G"
   },
   "source": [
    "## Defining the Model\n",
    "\n",
    "All it takes is to put a linear classifier on top of the `feature_extractor_layer` with the Hub module.\n",
    "\n",
    "For speed, we start out with a non-trainable `feature_extractor_layer`, but you can also enable fine-tuning for greater accuracy."
   ]
  },
  {
   "cell_type": "code",
   "execution_count": null,
   "metadata": {
    "id": "RaJW3XrPyFiF"
   },
   "outputs": [],
   "source": [
    "do_fine_tuning = False  # @param {type:\"boolean\"}"
   ]
  },
  {
   "cell_type": "code",
   "execution_count": null,
   "metadata": {
    "id": "GS3b2GZOBCkP"
   },
   "outputs": [],
   "source": [
    "feature_extractor = hub.KerasLayer(\n",
    "    MODULE_HANDLE,\n",
    "    input_shape=IMAGE_SIZE + (3,),\n",
    "    output_shape=[FV_SIZE],\n",
    "    trainable=do_fine_tuning,\n",
    ")"
   ]
  },
  {
   "cell_type": "code",
   "execution_count": null,
   "metadata": {
    "colab": {
     "base_uri": "https://localhost:8080/"
    },
    "id": "2T_Km85XBCkP",
    "outputId": "31e01ec6-6697-43da-d76a-574fb354a58b"
   },
   "outputs": [
    {
     "name": "stdout",
     "output_type": "stream",
     "text": [
      "Building model with https://tfhub.dev/google/tf2-preview/mobilenet_v2/feature_vector/4\n",
      "Model: \"sequential\"\n",
      "_________________________________________________________________\n",
      " Layer (type)                Output Shape              Param #   \n",
      "=================================================================\n",
      " keras_layer (KerasLayer)    (None, 1280)              2257984   \n",
      "                                                                 \n",
      " dense (Dense)               (None, 3)                 3843      \n",
      "                                                                 \n",
      "=================================================================\n",
      "Total params: 2,261,827\n",
      "Trainable params: 3,843\n",
      "Non-trainable params: 2,257,984\n",
      "_________________________________________________________________\n"
     ]
    }
   ],
   "source": [
    "print(\"Building model with\", MODULE_HANDLE)\n",
    "\n",
    "model = tf.keras.Sequential(\n",
    "    [feature_extractor, tf.keras.layers.Dense(3, activation=\"softmax\")]\n",
    ")\n",
    "\n",
    "model.summary()"
   ]
  },
  {
   "cell_type": "code",
   "execution_count": null,
   "metadata": {
    "id": "FhTJQcjzBCkP"
   },
   "outputs": [],
   "source": [
    "# @title (Optional) Unfreeze some layers\n",
    "NUM_LAYERS = 17  # @param {type:\"slider\", min:1, max:50, step:1}\n",
    "\n",
    "if do_fine_tuning:\n",
    "    feature_extractor.trainable = True\n",
    "\n",
    "    for layer in model.layers[-NUM_LAYERS:]:\n",
    "        layer.trainable = True\n",
    "\n",
    "else:\n",
    "    feature_extractor.trainable = False"
   ]
  },
  {
   "cell_type": "markdown",
   "metadata": {
    "id": "u2e5WupIw2N2"
   },
   "source": [
    "## Training the Model"
   ]
  },
  {
   "cell_type": "code",
   "execution_count": null,
   "metadata": {
    "id": "9f3yBUvkd_VJ"
   },
   "outputs": [],
   "source": [
    "if do_fine_tuning:\n",
    "    model.compile(\n",
    "        optimizer=tf.keras.optimizers.SGD(lr=0.002, momentum=0.9),\n",
    "        loss=tf.keras.losses.SparseCategoricalCrossentropy(),\n",
    "        metrics=[\"accuracy\"],\n",
    "    )\n",
    "else:\n",
    "    model.compile(\n",
    "        optimizer=\"adam\", loss=\"sparse_categorical_crossentropy\", metrics=[\"accuracy\"]\n",
    "    )"
   ]
  },
  {
   "cell_type": "code",
   "execution_count": null,
   "metadata": {
    "colab": {
     "base_uri": "https://localhost:8080/"
    },
    "id": "w_YKX2Qnfg6x",
    "outputId": "4109eaa6-1504-4086-afd9-900819db5552"
   },
   "outputs": [
    {
     "name": "stdout",
     "output_type": "stream",
     "text": [
      "Epoch 1/20\n",
      "46/46 [==============================] - 21s 156ms/step - loss: 1.2114 - accuracy: 0.4712 - val_loss: 0.6732 - val_accuracy: 0.7879\n",
      "Epoch 2/20\n",
      "46/46 [==============================] - 3s 51ms/step - loss: 0.6570 - accuracy: 0.7544 - val_loss: 0.5142 - val_accuracy: 0.8788\n",
      "Epoch 3/20\n",
      "46/46 [==============================] - 3s 50ms/step - loss: 0.5333 - accuracy: 0.8208 - val_loss: 0.4284 - val_accuracy: 0.8788\n",
      "Epoch 4/20\n",
      "46/46 [==============================] - 3s 50ms/step - loss: 0.4484 - accuracy: 0.8650 - val_loss: 0.3583 - val_accuracy: 0.9394\n",
      "Epoch 5/20\n",
      "46/46 [==============================] - 3s 52ms/step - loss: 0.4096 - accuracy: 0.8584 - val_loss: 0.3273 - val_accuracy: 0.9091\n",
      "Epoch 6/20\n",
      "46/46 [==============================] - 3s 51ms/step - loss: 0.3690 - accuracy: 0.8783 - val_loss: 0.2923 - val_accuracy: 0.9091\n",
      "Epoch 7/20\n",
      "46/46 [==============================] - 3s 52ms/step - loss: 0.3215 - accuracy: 0.9226 - val_loss: 0.2771 - val_accuracy: 0.9394\n",
      "Epoch 8/20\n",
      "46/46 [==============================] - 3s 53ms/step - loss: 0.2991 - accuracy: 0.9181 - val_loss: 0.2611 - val_accuracy: 0.9091\n",
      "Epoch 9/20\n",
      "46/46 [==============================] - 3s 52ms/step - loss: 0.2758 - accuracy: 0.9137 - val_loss: 0.2647 - val_accuracy: 0.9091\n",
      "Epoch 10/20\n",
      "46/46 [==============================] - 3s 52ms/step - loss: 0.2598 - accuracy: 0.9270 - val_loss: 0.2298 - val_accuracy: 0.9091\n",
      "Epoch 11/20\n",
      "46/46 [==============================] - 3s 52ms/step - loss: 0.2426 - accuracy: 0.9447 - val_loss: 0.2174 - val_accuracy: 0.9091\n",
      "Epoch 12/20\n",
      "46/46 [==============================] - 3s 51ms/step - loss: 0.2311 - accuracy: 0.9403 - val_loss: 0.2064 - val_accuracy: 0.9394\n",
      "Epoch 13/20\n",
      "46/46 [==============================] - 3s 52ms/step - loss: 0.2159 - accuracy: 0.9491 - val_loss: 0.2218 - val_accuracy: 0.9091\n",
      "Epoch 14/20\n",
      "46/46 [==============================] - 3s 51ms/step - loss: 0.2094 - accuracy: 0.9491 - val_loss: 0.2013 - val_accuracy: 0.9091\n",
      "Epoch 15/20\n",
      "46/46 [==============================] - 3s 52ms/step - loss: 0.1901 - accuracy: 0.9535 - val_loss: 0.1842 - val_accuracy: 0.9394\n",
      "Epoch 16/20\n",
      "46/46 [==============================] - 3s 51ms/step - loss: 0.1878 - accuracy: 0.9602 - val_loss: 0.2082 - val_accuracy: 0.9394\n",
      "Epoch 17/20\n",
      "46/46 [==============================] - 3s 53ms/step - loss: 0.1686 - accuracy: 0.9646 - val_loss: 0.1906 - val_accuracy: 0.9697\n",
      "Epoch 18/20\n",
      "46/46 [==============================] - 3s 52ms/step - loss: 0.1616 - accuracy: 0.9690 - val_loss: 0.1783 - val_accuracy: 0.9394\n",
      "Epoch 19/20\n",
      "46/46 [==============================] - 3s 53ms/step - loss: 0.1534 - accuracy: 0.9735 - val_loss: 0.1745 - val_accuracy: 0.9394\n",
      "Epoch 20/20\n",
      "46/46 [==============================] - 3s 52ms/step - loss: 0.1451 - accuracy: 0.9712 - val_loss: 0.1853 - val_accuracy: 0.9697\n"
     ]
    }
   ],
   "source": [
    "EPOCHS = 20\n",
    "\n",
    "hist = model.fit(train_dataset, epochs=EPOCHS, validation_data=test_dataset)"
   ]
  },
  {
   "cell_type": "markdown",
   "metadata": {
    "id": "u_psFoTeLpHU"
   },
   "source": [
    "## Export the Model"
   ]
  },
  {
   "cell_type": "code",
   "execution_count": null,
   "metadata": {
    "id": "XaSb5nVzHcVv"
   },
   "outputs": [],
   "source": [
    "RPS_SAVED_MODEL = \"rps_saved_model\""
   ]
  },
  {
   "cell_type": "markdown",
   "metadata": {
    "id": "fZqRAg1uz1Nu"
   },
   "source": [
    "Export the SavedModel"
   ]
  },
  {
   "cell_type": "code",
   "execution_count": null,
   "metadata": {
    "colab": {
     "base_uri": "https://localhost:8080/"
    },
    "id": "yJMue5YgnwtN",
    "outputId": "d50d3e19-cceb-4c30-d212-de7b90a63e40"
   },
   "outputs": [
    {
     "name": "stdout",
     "output_type": "stream",
     "text": [
      "INFO:tensorflow:Assets written to: rps_saved_model/assets\n"
     ]
    },
    {
     "name": "stderr",
     "output_type": "stream",
     "text": [
      "INFO:tensorflow:Assets written to: rps_saved_model/assets\n"
     ]
    }
   ],
   "source": [
    "tf.saved_model.save(model, RPS_SAVED_MODEL)"
   ]
  },
  {
   "cell_type": "code",
   "execution_count": null,
   "metadata": {
    "colab": {
     "base_uri": "https://localhost:8080/"
    },
    "id": "SOQF4cOan0SY",
    "outputId": "49f57430-0f3d-4912-f196-ffcf4b18a697"
   },
   "outputs": [
    {
     "name": "stdout",
     "output_type": "stream",
     "text": [
      "The given SavedModel SignatureDef contains the following input(s):\n",
      "  inputs['keras_layer_input'] tensor_info:\n",
      "      dtype: DT_FLOAT\n",
      "      shape: (-1, 224, 224, 3)\n",
      "      name: serving_default_keras_layer_input:0\n",
      "The given SavedModel SignatureDef contains the following output(s):\n",
      "  outputs['dense'] tensor_info:\n",
      "      dtype: DT_FLOAT\n",
      "      shape: (-1, 3)\n",
      "      name: StatefulPartitionedCall:0\n",
      "Method name is: tensorflow/serving/predict\n"
     ]
    }
   ],
   "source": [
    "%%bash -s $RPS_SAVED_MODEL\n",
    "saved_model_cli show --dir $1 --tag_set serve --signature_def serving_default"
   ]
  },
  {
   "cell_type": "code",
   "execution_count": null,
   "metadata": {
    "id": "FY7QGBgBytwX"
   },
   "outputs": [],
   "source": [
    "loaded = tf.saved_model.load(RPS_SAVED_MODEL)"
   ]
  },
  {
   "cell_type": "code",
   "execution_count": null,
   "metadata": {
    "colab": {
     "base_uri": "https://localhost:8080/"
    },
    "id": "tIhPyMISz952",
    "outputId": "3dd5d953-a662-4096-ce5f-010634cfe5aa"
   },
   "outputs": [
    {
     "name": "stdout",
     "output_type": "stream",
     "text": [
      "['serving_default']\n",
      "((), {'keras_layer_input': TensorSpec(shape=(None, 224, 224, 3), dtype=tf.float32, name='keras_layer_input')})\n",
      "{'dense': TensorSpec(shape=(None, 3), dtype=tf.float32, name='dense')}\n"
     ]
    }
   ],
   "source": [
    "print(list(loaded.signatures.keys()))\n",
    "infer = loaded.signatures[\"serving_default\"]\n",
    "print(infer.structured_input_signature)\n",
    "print(infer.structured_outputs)"
   ]
  },
  {
   "cell_type": "markdown",
   "metadata": {
    "id": "XxLiLC8n0H16"
   },
   "source": [
    "## Convert Using TFLite's Converter"
   ]
  },
  {
   "cell_type": "code",
   "execution_count": null,
   "metadata": {
    "colab": {
     "base_uri": "https://localhost:8080/"
    },
    "id": "WmSr2-yZoUhz",
    "outputId": "1e60c934-cc87-44db-a0c1-856f89d6f72e"
   },
   "outputs": [
    {
     "name": "stderr",
     "output_type": "stream",
     "text": [
      "WARNING:absl:Optimization option OPTIMIZE_FOR_SIZE is deprecated, please use optimizations=[Optimize.DEFAULT] instead.\n",
      "WARNING:absl:Optimization option OPTIMIZE_FOR_SIZE is deprecated, please use optimizations=[Optimize.DEFAULT] instead.\n",
      "WARNING:absl:Optimization option OPTIMIZE_FOR_SIZE is deprecated, please use optimizations=[Optimize.DEFAULT] instead.\n",
      "WARNING:absl:Buffer deduplication procedure will be skipped when flatbuffer library is not properly loaded\n"
     ]
    }
   ],
   "source": [
    "converter = tf.lite.TFLiteConverter.from_saved_model(RPS_SAVED_MODEL)\n",
    "converter.optimizations = [tf.lite.Optimize.OPTIMIZE_FOR_SIZE]\n",
    "tflite_model = converter.convert()"
   ]
  },
  {
   "cell_type": "code",
   "execution_count": null,
   "metadata": {
    "id": "9j0yvfIUBCkX"
   },
   "outputs": [],
   "source": [
    "tflite_model_file = \"converted_model.tflite\"\n",
    "\n",
    "with open(tflite_model_file, \"wb\") as f:\n",
    "    f.write(tflite_model)"
   ]
  },
  {
   "cell_type": "code",
   "execution_count": null,
   "metadata": {
    "colab": {
     "base_uri": "https://localhost:8080/",
     "height": 35
    },
    "id": "7a0wxtRAW4dM",
    "outputId": "707daf29-bd2d-45e3-f411-7b326024457a"
   },
   "outputs": [
    {
     "data": {
      "application/vnd.google.colaboratory.intrinsic+json": {
       "type": "string"
      },
      "text/plain": [
       "'/content/rps_saved_model.zip'"
      ]
     },
     "execution_count": 46,
     "metadata": {},
     "output_type": "execute_result"
    }
   ],
   "source": [
    "import shutil\n",
    "\n",
    "shutil.make_archive(\"rps_saved_model\", \"zip\", \"rps_saved_model\")"
   ]
  }
 ],
 "metadata": {
  "accelerator": "GPU",
  "colab": {
   "collapsed_sections": [],
   "name": "projekBangkit.ipynb",
   "provenance": []
  },
  "kernelspec": {
   "display_name": "Python 3 (ipykernel)",
   "language": "python",
   "name": "python3"
  },
  "language_info": {
   "codemirror_mode": {
    "name": "ipython",
    "version": 3
   },
   "file_extension": ".py",
   "mimetype": "text/x-python",
   "name": "python",
   "nbconvert_exporter": "python",
   "pygments_lexer": "ipython3",
   "version": "3.8.12"
  }
 },
 "nbformat": 4,
 "nbformat_minor": 4
}
